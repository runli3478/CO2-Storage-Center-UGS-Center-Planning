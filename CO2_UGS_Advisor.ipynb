{
  "nbformat": 4,
  "nbformat_minor": 0,
  "metadata": {
    "colab": {
      "provenance": []
    },
    "kernelspec": {
      "name": "python3",
      "display_name": "Python 3"
    },
    "language_info": {
      "name": "python"
    }
  },
  "cells": [
    {
      "cell_type": "code",
      "source": [
        "!pip install itable"
      ],
      "metadata": {
        "id": "mxwBTVlDrQdY"
      },
      "execution_count": null,
      "outputs": []
    },
    {
      "cell_type": "code",
      "source": [
        "# Step 1: Data Collection and Preprocessing\n",
        "\n",
        "# Import necessary libraries\n",
        "import pandas as pd\n",
        "\n",
        "# Load the dataset\n",
        "file_path = 'data/CCUS_dataset.csv'  # Replace with the actual file path\n",
        "data = pd.read_csv(file_path)\n",
        "\n",
        "# Step 2: Select and Keep Desired Columns\n",
        "\n",
        "desired_columns = [\n",
        "    'Project Name', 'Plant Name', 'Country Code',\n",
        "    'Specific Site Location', 'Size or Capture Amount/unit base power',\n",
        "    'Project Type', 'Latitude', 'Longitude'\n",
        "]\n",
        "\n",
        "# Keep only the desired columns\n",
        "preprocessed_data = data[desired_columns]\n",
        "\n",
        "# Step 3: Remove Rows with Missing Values\n",
        "\n",
        "# Drop rows with missing values in any of the selected columns\n",
        "preprocessed_data.dropna(subset=desired_columns, inplace=True)\n",
        "\n",
        "display(preprocessed_data)\n",
        "\n",
        "# Optionally, save the preprocessed data to a new CSV file\n",
        "# preprocessed_data.to_csv('preprocessed_data.csv', index=False)\n"
      ],
      "metadata": {
        "id": "Ist9sJppqBGB"
      },
      "execution_count": null,
      "outputs": []
    },
    {
      "cell_type": "code",
      "source": [
        "# Step 3: Storage Candidate Evaluation\n",
        "\n",
        "def evaluate_storage_candidates(candidate_data, input_size, input_latitude, input_longitude):\n",
        "    # Filter candidates based on input criteria\n",
        "    '''\n",
        "    filtered_candidates = candidate_data.loc[\n",
        "        (candidate_data['Size or Capture Amount/unit base power'] < input_size) &\n",
        "        (candidate_data['Latitude'] - 0.5 <= input_latitude) & (input_latitude >= candidate_data['Latitude'] + 0.5) &\n",
        "        (candidate_data['Longitude'] - 0.5 <= input_longitude) & (input_longitude >= candidate_data['Longitude'] + 0.5)\n",
        "    ]\n",
        "    return filtered_candidates\n",
        "    '''\n",
        "    filtered_candidates = candidate_data.loc[\n",
        "        (candidate_data['Size or Capture Amount/unit base power'] * 0.9 < input_size) & (candidate_data['Size or Capture Amount/unit base power'] * 1.1 > input_size) &\n",
        "        (candidate_data['Latitude'] * 1.2 >= input_latitude) & (input_latitude >= candidate_data['Latitude'] * 0.8) &\n",
        "        (candidate_data['Longitude'] * 1.2 >= input_longitude) & (input_longitude >= candidate_data['Longitude'] * 0.8)\n",
        "    ]\n",
        "    return filtered_candidates"
      ],
      "metadata": {
        "id": "Z90VMfuwq-Fz"
      },
      "execution_count": null,
      "outputs": []
    },
    {
      "cell_type": "code",
      "source": [
        "# Main Function\n",
        "\n",
        "def main():\n",
        "    # Call the necessary functions and modules to execute the system\n",
        "    candidate_data = preprocessed_data  # Replace with your candidate data file\n",
        "\n",
        "    # Get user inputs\n",
        "    input_size = float(input(\"Enter Size or Capture Amount/unit base power: \"))\n",
        "    input_latitude = float(input(\"Enter Latitude: \"))\n",
        "    input_longitude = float(input(\"Enter Longitude: \"))\n",
        "\n",
        "    # Evaluate storage candidates based on user inputs\n",
        "    evaluated_candidates = evaluate_storage_candidates(candidate_data, input_size, input_latitude, input_longitude)\n",
        "\n",
        "    # Display the suggested projects\n",
        "    # Display the suggested projects\n",
        "    if not evaluated_candidates.empty:\n",
        "        suggested_projects = evaluated_candidates[['Project Name', 'Specific Site Location', 'Project Type', 'Size or Capture Amount/unit base power', 'Latitude', 'Longitude']]\n",
        "        print(\"Suggested Projects: \\n\")\n",
        "        print(display(suggested_projects))\n",
        "    else:\n",
        "        print(\"No projects match the given criteria.\")\n",
        "\n",
        "# Execute the main function\n",
        "if __name__ == '__main__':\n",
        "    main()\n"
      ],
      "metadata": {
        "id": "sLy4wz1TcnFU"
      },
      "execution_count": null,
      "outputs": []
    },
    {
      "cell_type": "code",
      "source": [],
      "metadata": {
        "id": "YL1tMW8ZdRsf"
      },
      "execution_count": null,
      "outputs": []
    }
  ]
}
